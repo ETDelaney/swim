{
 "cells": [
  {
   "cell_type": "code",
   "execution_count": 1,
   "metadata": {},
   "outputs": [],
   "source": [
    "import obspy as obs\n",
    "from glob import glob\n",
    "import numpy as np\n",
    "import sys\n",
    "import os\n",
    "from obspy import read\n",
    "import matplotlib.pyplot as plt\n",
    "np.set_printoptions(suppress = True)\n",
    "from IPython.display import clear_output"
   ]
  },
  {
   "cell_type": "code",
   "execution_count": 2,
   "metadata": {},
   "outputs": [],
   "source": [
    "cc_matrix = np.zeros([29412, 5+1201]) # length of traces is 1201 each... and first 5 values will serve as headers\n",
    "a = 0\n",
    "\n",
    "for i in np.arange(172):\n",
    "    for j in np.arange(172):\n",
    "        if i != j:\n",
    "            cc_matrix[a,0] = a+1\n",
    "            cc_matrix[a,1] = i+1\n",
    "            cc_matrix[a,2] = j+1\n",
    "            a +=1\n",
    "        \n",
    "        else:\n",
    "            continue"
   ]
  },
  {
   "cell_type": "code",
   "execution_count": 3,
   "metadata": {},
   "outputs": [],
   "source": [
    "corlist = glob('MAY2014/2014.05.month/DATA/correlations/noisy/*.SAC')"
   ]
  },
  {
   "cell_type": "code",
   "execution_count": 4,
   "metadata": {},
   "outputs": [],
   "source": [
    "freqmin=0.55\n",
    "freqmax=0.95\n",
    "corners=3\n",
    "\n",
    "for file in corlist:\n",
    "    a = int(file.split('\\\\')[1].split('.')[1])\n",
    "    b = int(file.split('\\\\')[1].split('.')[5])\n",
    "    #print(a)\n",
    "    #print(b)\n",
    "    \n",
    "    # find the index that corresponds to the receiver pair\n",
    "    index = np.where((cc_matrix[:,1] == a) & (cc_matrix[:,2] == b))[0][0]\n",
    "    #print(index)\n",
    "    index_r = np.where((cc_matrix[:,1] == b) & (cc_matrix[:,2] == a))[0][0]\n",
    "    #print(index_r)\n",
    "    \n",
    "    # read in the cc data and filter\n",
    "    cc_data = read(file)\n",
    "    cc_data.taper(max_percentage = 0.02, type = 'cosine')\n",
    "    cc_data.filter(type='bandpass',freqmin=freqmin,freqmax=freqmax,corners=corners,zerophase=True)\n",
    "    \n",
    "    # include some additional header information on distance and azimuth, and then include data\n",
    "    cc_matrix[index,3] = cc_data[0].stats['sac']['dist']\n",
    "    cc_matrix[index,4] = cc_data[0].stats['sac']['az']\n",
    "    cc_matrix[index,5:]   = cc_data[0].data\n",
    "    \n",
    "    # do the same for the reverse pair - redundant ones\n",
    "    cc_matrix[index_r,3] = cc_data[0].stats['sac']['dist']\n",
    "    if cc_data[0].stats['sac']['az'] + 180 > 360:\n",
    "        cc_matrix[index_r,4] = cc_data[0].stats['sac']['az'] - 180\n",
    "    else:\n",
    "        cc_matrix[index_r,4] = cc_data[0].stats['sac']['az'] + 180\n",
    "    cc_matrix[index_r,5:] = np.flip(cc_data[0].data)"
   ]
  },
  {
   "cell_type": "code",
   "execution_count": 5,
   "metadata": {},
   "outputs": [],
   "source": [
    "import numpy as np\n",
    "import scipy.io\n",
    "\n",
    "scipy.io.savemat('2014.05.month_0.55.to.0.95_3_redundant.mat', dict(headers=cc_matrix[:,0:5], cc_matrix=cc_matrix[:,5:], fold=10351))"
   ]
  },
  {
   "cell_type": "code",
   "execution_count": null,
   "metadata": {},
   "outputs": [],
   "source": []
  }
 ],
 "metadata": {
  "kernelspec": {
   "display_name": "Python 3",
   "language": "python",
   "name": "python3"
  },
  "language_info": {
   "codemirror_mode": {
    "name": "ipython",
    "version": 3
   },
   "file_extension": ".py",
   "mimetype": "text/x-python",
   "name": "python",
   "nbconvert_exporter": "python",
   "pygments_lexer": "ipython3",
   "version": "3.6.6"
  }
 },
 "nbformat": 4,
 "nbformat_minor": 2
}
