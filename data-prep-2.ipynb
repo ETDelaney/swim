{
 "cells": [
  {
   "cell_type": "code",
   "execution_count": 34,
   "metadata": {},
   "outputs": [],
   "source": [
    "import obspy as obs\n",
    "from glob import glob\n",
    "import numpy as np\n",
    "import sys\n",
    "import os\n",
    "from obspy import read\n",
    "import matplotlib.pyplot as plt\n",
    "np.set_printoptions(suppress = True)\n",
    "from IPython.display import clear_output"
   ]
  },
  {
   "cell_type": "code",
   "execution_count": 25,
   "metadata": {},
   "outputs": [],
   "source": [
    "cc_matrix = np.zeros([29412, 5+1201]) # length of traces is 1201 each... and first 5 values will serve as headers\n",
    "a = 0\n",
    "\n",
    "for i in np.arange(172):\n",
    "    for j in np.arange(172):\n",
    "        if i != j:\n",
    "            cc_matrix[a,0] = a+1\n",
    "            cc_matrix[a,1] = i+1\n",
    "            cc_matrix[a,2] = j+1\n",
    "            a +=1\n",
    "        \n",
    "        else:\n",
    "            continue"
   ]
  },
  {
   "cell_type": "code",
   "execution_count": 26,
   "metadata": {},
   "outputs": [],
   "source": [
    "corlist = glob('MAY2014/2014.05.month/DATA/correlations/noisy/*.SAC')"
   ]
  },
  {
   "cell_type": "code",
   "execution_count": 36,
   "metadata": {},
   "outputs": [
    {
     "name": "stdout",
     "output_type": "stream",
     "text": [
      "4\n",
      "855\n"
     ]
    }
   ],
   "source": [
    "freqmin=0.55\n",
    "freqmax=0.95\n",
    "corners=3\n",
    "\n",
    "for file in corlist[0:5]:\n",
    "    clear_output()\n",
    "    a = int(file.split('\\\\')[1].split('.')[1])\n",
    "    b = int(file.split('\\\\')[1].split('.')[5])\n",
    "    #print(a)\n",
    "    #print(b)\n",
    "    \n",
    "    # find the index that corresponds to the receiver pair\n",
    "    index = np.where((cc_matrix[:,1] == a) & (cc_matrix[:,2] == b))[0][0]\n",
    "    print(index)\n",
    "    index_r = np.where((cc_matrix[:,1] == b) & (cc_matrix[:,2] == a))[0][0]\n",
    "    print(index_r)\n",
    "    \n",
    "    # read in the cc data and filter\n",
    "    cc_data = read(file)\n",
    "    cc_data.taper(max_percentage = 0.02, type = 'cosine')\n",
    "    cc_data.filter(type='bandpass',freqmin=freqmin,freqmax=freqmax,corners=corners,zerophase=True)\n",
    "    \n",
    "    # include some additional header information on distance and azimuth, and then include data\n",
    "    cc_matrix[index,3] = cc_data[0].stats['sac']['dist']\n",
    "    cc_matrix[index,4] = cc_data[0].stats['sac']['az']\n",
    "    cc_matrix[index,5:]   = cc_data[0].data\n",
    "    \n",
    "    # do the same for the reverse pair - redundant ones\n",
    "    cc_matrix[index_r,3] = cc_data[0].stats['sac']['dist']\n",
    "    if cc_data[0].stats['sac']['az'] + 180 > 360:\n",
    "        cc_matrix[index_r,4] = cc_data[0].stats['sac']['az'] - 180\n",
    "    else:\n",
    "        cc_matrix[index_r,4] = cc_data[0].stats['sac']['az'] + 180\n",
    "    cc_matrix[index_r,5:] = np.flip(cc_data[0].data)\n"
   ]
  },
  {
   "cell_type": "code",
   "execution_count": null,
   "metadata": {},
   "outputs": [],
   "source": []
  },
  {
   "cell_type": "code",
   "execution_count": 29,
   "metadata": {},
   "outputs": [
    {
     "data": {
      "text/plain": [
       "array([   5.        ,    1.        ,    6.        ,  249.89549255,\n",
       "        212.22116089,    0.01248095,    0.01696116,    0.02082099,\n",
       "          0.02367768,    0.02518205])"
      ]
     },
     "execution_count": 29,
     "metadata": {},
     "output_type": "execute_result"
    }
   ],
   "source": [
    "cc_matrix[4,0:10]"
   ]
  },
  {
   "cell_type": "code",
   "execution_count": 31,
   "metadata": {},
   "outputs": [
    {
     "data": {
      "text/plain": [
       "1201"
      ]
     },
     "execution_count": 31,
     "metadata": {},
     "output_type": "execute_result"
    }
   ],
   "source": [
    "len(cc_matrix[855,5:])"
   ]
  },
  {
   "cell_type": "code",
   "execution_count": 32,
   "metadata": {},
   "outputs": [
    {
     "data": {
      "text/plain": [
       "[<matplotlib.lines.Line2D at 0x1cc33bbe048>]"
      ]
     },
     "execution_count": 32,
     "metadata": {},
     "output_type": "execute_result"
    },
    {
     "data": {
      "image/png": "[encoded data removed]",
      "text/plain": [
       "<Figure size 432x288 with 1 Axes>"
      ]
     },
     "metadata": {
      "needs_background": "light"
     },
     "output_type": "display_data"
    }
   ],
   "source": [
    "plt.plot(cc_matrix[855,5:])"
   ]
  },
  {
   "cell_type": "code",
   "execution_count": 15,
   "metadata": {},
   "outputs": [
    {
     "data": {
      "text/plain": [
       "[<matplotlib.lines.Line2D at 0x1cc451fce48>]"
      ]
     },
     "execution_count": 15,
     "metadata": {},
     "output_type": "execute_result"
    },
    {
     "data": {
      "image/png": "[encoded data removed]",
      "text/plain": [
       "<Figure size 432x288 with 1 Axes>"
      ]
     },
     "metadata": {
      "needs_background": "light"
     },
     "output_type": "display_data"
    }
   ],
   "source": [
    "plt.plot(cc_matrix[4,3:])"
   ]
  },
  {
   "cell_type": "code",
   "execution_count": 16,
   "metadata": {},
   "outputs": [
    {
     "data": {
      "text/plain": [
       "[<matplotlib.lines.Line2D at 0x1cc45258b70>]"
      ]
     },
     "execution_count": 16,
     "metadata": {},
     "output_type": "execute_result"
    },
    {
     "data": {
      "image/png": "[encoded data removed]",
      "text/plain": [
       "<Figure size 432x288 with 1 Axes>"
      ]
     },
     "metadata": {
      "needs_background": "light"
     },
     "output_type": "display_data"
    }
   ],
   "source": [
    "plt.plot(cc_matrix[855,3:])"
   ]
  },
  {
   "cell_type": "code",
   "execution_count": null,
   "metadata": {},
   "outputs": [],
   "source": []
  },
  {
   "cell_type": "code",
   "execution_count": 17,
   "metadata": {},
   "outputs": [
    {
     "data": {
      "text/plain": [
       "29411"
      ]
     },
     "execution_count": 17,
     "metadata": {},
     "output_type": "execute_result"
    }
   ],
   "source": [
    "np.where((cc_matrix[:,1] == 172) & (cc_matrix[:,2] == 171))[0][0]"
   ]
  },
  {
   "cell_type": "code",
   "execution_count": 8,
   "metadata": {},
   "outputs": [
    {
     "data": {
      "text/plain": [
       "array([[     1.,      1.,      2.],\n",
       "       [     2.,      1.,      3.],\n",
       "       [     3.,      1.,      4.],\n",
       "       ..., \n",
       "       [ 29410.,    172.,    169.],\n",
       "       [ 29411.,    172.,    170.],\n",
       "       [ 29412.,    172.,    171.]])"
      ]
     },
     "execution_count": 8,
     "metadata": {},
     "output_type": "execute_result"
    }
   ],
   "source": [
    "cc_matrix"
   ]
  },
  {
   "cell_type": "code",
   "execution_count": 23,
   "metadata": {},
   "outputs": [
    {
     "data": {
      "text/plain": [
       "[]"
      ]
     },
     "execution_count": 23,
     "metadata": {},
     "output_type": "execute_result"
    }
   ],
   "source": [
    "corlist[0:5]"
   ]
  },
  {
   "cell_type": "code",
   "execution_count": 24,
   "metadata": {},
   "outputs": [],
   "source": [
    "corlist1 = glob('MA)"
   ]
  },
  {
   "cell_type": "code",
   "execution_count": 26,
   "metadata": {},
   "outputs": [
    {
     "data": {
      "text/plain": [
       "[]"
      ]
     },
     "execution_count": 26,
     "metadata": {},
     "output_type": "execute_result"
    }
   ],
   "source": [
    "corlist1"
   ]
  },
  {
   "cell_type": "code",
   "execution_count": 21,
   "metadata": {},
   "outputs": [],
   "source": [
    "for file in corlist:\n",
    "    test_data = read(file)\n",
    "    assert(test_data[0].stats['sac']['user0'] == 10351)"
   ]
  },
  {
   "cell_type": "code",
   "execution_count": null,
   "metadata": {},
   "outputs": [],
   "source": []
  }
 ],
 "metadata": {
  "kernelspec": {
   "display_name": "Python 3",
   "language": "python",
   "name": "python3"
  },
  "language_info": {
   "codemirror_mode": {
    "name": "ipython",
    "version": 3
   },
   "file_extension": ".py",
   "mimetype": "text/x-python",
   "name": "python",
   "nbconvert_exporter": "python",
   "pygments_lexer": "ipython3",
   "version": "3.6.6"
  }
 },
 "nbformat": 4,
 "nbformat_minor": 2
}
